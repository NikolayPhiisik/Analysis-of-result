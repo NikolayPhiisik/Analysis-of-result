{
 "cells": [
  {
   "cell_type": "markdown",
   "metadata": {},
   "source": [
    "### Если юзер Android нажимает “отменить”, предлагать промокод в случае НЕ отмены\n",
    "### Ожидаем: ниже отмены на Android устройствах"
   ]
  },
  {
   "cell_type": "code",
   "execution_count": 1,
   "metadata": {},
   "outputs": [],
   "source": [
    "import pandas as pd\n",
    "import numpy as np\n",
    "import scipy\n",
    "from scipy import stats\n",
    "import matplotlib.pyplot as plt"
   ]
  },
  {
   "cell_type": "code",
   "execution_count": 2,
   "metadata": {},
   "outputs": [
    {
     "data": {
      "text/html": [
       "<div>\n",
       "<style scoped>\n",
       "    .dataframe tbody tr th:only-of-type {\n",
       "        vertical-align: middle;\n",
       "    }\n",
       "\n",
       "    .dataframe tbody tr th {\n",
       "        vertical-align: top;\n",
       "    }\n",
       "\n",
       "    .dataframe thead th {\n",
       "        text-align: right;\n",
       "    }\n",
       "</style>\n",
       "<table border=\"1\" class=\"dataframe\">\n",
       "  <thead>\n",
       "    <tr style=\"text-align: right;\">\n",
       "      <th></th>\n",
       "      <th>date</th>\n",
       "      <th>user_id</th>\n",
       "      <th>user_cancelled</th>\n",
       "      <th>groups</th>\n",
       "      <th>os</th>\n",
       "    </tr>\n",
       "  </thead>\n",
       "  <tbody>\n",
       "    <tr>\n",
       "      <th>0</th>\n",
       "      <td>2020-05-28</td>\n",
       "      <td>867689</td>\n",
       "      <td>0.0</td>\n",
       "      <td>Control</td>\n",
       "      <td>Android</td>\n",
       "    </tr>\n",
       "    <tr>\n",
       "      <th>1</th>\n",
       "      <td>2020-05-29</td>\n",
       "      <td>867689</td>\n",
       "      <td>NaN</td>\n",
       "      <td>Control</td>\n",
       "      <td>iOS</td>\n",
       "    </tr>\n",
       "    <tr>\n",
       "      <th>2</th>\n",
       "      <td>2020-05-25</td>\n",
       "      <td>867689</td>\n",
       "      <td>0.0</td>\n",
       "      <td>Control</td>\n",
       "      <td>Android</td>\n",
       "    </tr>\n",
       "    <tr>\n",
       "      <th>3</th>\n",
       "      <td>2020-05-29</td>\n",
       "      <td>752172</td>\n",
       "      <td>0.0</td>\n",
       "      <td>Control</td>\n",
       "      <td>Android</td>\n",
       "    </tr>\n",
       "    <tr>\n",
       "      <th>4</th>\n",
       "      <td>2020-05-28</td>\n",
       "      <td>752172</td>\n",
       "      <td>0.0</td>\n",
       "      <td>Control</td>\n",
       "      <td>iOS</td>\n",
       "    </tr>\n",
       "  </tbody>\n",
       "</table>\n",
       "</div>"
      ],
      "text/plain": [
       "         date  user_id  user_cancelled   groups       os\n",
       "0  2020-05-28   867689             0.0  Control  Android\n",
       "1  2020-05-29   867689             NaN  Control      iOS\n",
       "2  2020-05-25   867689             0.0  Control  Android\n",
       "3  2020-05-29   752172             0.0  Control  Android\n",
       "4  2020-05-28   752172             0.0  Control      iOS"
      ]
     },
     "execution_count": 2,
     "metadata": {},
     "output_type": "execute_result"
    }
   ],
   "source": [
    "data = pd.read_csv('post_abtest_data.csv')\n",
    "data[['date','user_id','user_cancelled','groups','os']].head()"
   ]
  },
  {
   "cell_type": "code",
   "execution_count": 49,
   "metadata": {},
   "outputs": [],
   "source": [
    " # только Android\n",
    "os = data[data['os'] == 'Android']\n",
    "os = os[['date','user_id','user_cancelled','groups']]"
   ]
  },
  {
   "cell_type": "code",
   "execution_count": 50,
   "metadata": {},
   "outputs": [
    {
     "name": "stdout",
     "output_type": "stream",
     "text": [
      "<class 'pandas.core.frame.DataFrame'>\n",
      "Int64Index: 60825 entries, 0 to 101499\n",
      "Data columns (total 4 columns):\n",
      " #   Column          Non-Null Count  Dtype  \n",
      "---  ------          --------------  -----  \n",
      " 0   date            60825 non-null  object \n",
      " 1   user_id         60825 non-null  int64  \n",
      " 2   user_cancelled  42177 non-null  float64\n",
      " 3   groups          60825 non-null  object \n",
      "dtypes: float64(1), int64(1), object(2)\n",
      "memory usage: 2.3+ MB\n"
     ]
    }
   ],
   "source": [
    "os.info()"
   ]
  },
  {
   "cell_type": "code",
   "execution_count": 51,
   "metadata": {},
   "outputs": [
    {
     "data": {
      "text/html": [
       "<div>\n",
       "<style scoped>\n",
       "    .dataframe tbody tr th:only-of-type {\n",
       "        vertical-align: middle;\n",
       "    }\n",
       "\n",
       "    .dataframe tbody tr th {\n",
       "        vertical-align: top;\n",
       "    }\n",
       "\n",
       "    .dataframe thead th {\n",
       "        text-align: right;\n",
       "    }\n",
       "</style>\n",
       "<table border=\"1\" class=\"dataframe\">\n",
       "  <thead>\n",
       "    <tr style=\"text-align: right;\">\n",
       "      <th></th>\n",
       "      <th>date</th>\n",
       "      <th>user_id</th>\n",
       "      <th>user_cancelled</th>\n",
       "      <th>groups</th>\n",
       "    </tr>\n",
       "  </thead>\n",
       "  <tbody>\n",
       "    <tr>\n",
       "      <th>0</th>\n",
       "      <td>2020-05-28</td>\n",
       "      <td>867689</td>\n",
       "      <td>0.0</td>\n",
       "      <td>Control</td>\n",
       "    </tr>\n",
       "    <tr>\n",
       "      <th>2</th>\n",
       "      <td>2020-05-25</td>\n",
       "      <td>867689</td>\n",
       "      <td>0.0</td>\n",
       "      <td>Control</td>\n",
       "    </tr>\n",
       "    <tr>\n",
       "      <th>3</th>\n",
       "      <td>2020-05-29</td>\n",
       "      <td>752172</td>\n",
       "      <td>0.0</td>\n",
       "      <td>Control</td>\n",
       "    </tr>\n",
       "    <tr>\n",
       "      <th>7</th>\n",
       "      <td>2020-05-30</td>\n",
       "      <td>486559</td>\n",
       "      <td>0.0</td>\n",
       "      <td>Control</td>\n",
       "    </tr>\n",
       "    <tr>\n",
       "      <th>9</th>\n",
       "      <td>2020-05-29</td>\n",
       "      <td>486559</td>\n",
       "      <td>0.0</td>\n",
       "      <td>Control</td>\n",
       "    </tr>\n",
       "    <tr>\n",
       "      <th>...</th>\n",
       "      <td>...</td>\n",
       "      <td>...</td>\n",
       "      <td>...</td>\n",
       "      <td>...</td>\n",
       "    </tr>\n",
       "    <tr>\n",
       "      <th>101490</th>\n",
       "      <td>2020-05-25</td>\n",
       "      <td>600165</td>\n",
       "      <td>0.0</td>\n",
       "      <td>Control</td>\n",
       "    </tr>\n",
       "    <tr>\n",
       "      <th>101491</th>\n",
       "      <td>2020-05-29</td>\n",
       "      <td>556405</td>\n",
       "      <td>0.0</td>\n",
       "      <td>Control</td>\n",
       "    </tr>\n",
       "    <tr>\n",
       "      <th>101493</th>\n",
       "      <td>2020-05-26</td>\n",
       "      <td>442716</td>\n",
       "      <td>0.0</td>\n",
       "      <td>Test</td>\n",
       "    </tr>\n",
       "    <tr>\n",
       "      <th>101497</th>\n",
       "      <td>2020-05-26</td>\n",
       "      <td>352605</td>\n",
       "      <td>0.0</td>\n",
       "      <td>Test</td>\n",
       "    </tr>\n",
       "    <tr>\n",
       "      <th>101499</th>\n",
       "      <td>2020-05-28</td>\n",
       "      <td>811817</td>\n",
       "      <td>0.0</td>\n",
       "      <td>Test</td>\n",
       "    </tr>\n",
       "  </tbody>\n",
       "</table>\n",
       "<p>42177 rows × 4 columns</p>\n",
       "</div>"
      ],
      "text/plain": [
       "              date  user_id  user_cancelled   groups\n",
       "0       2020-05-28   867689             0.0  Control\n",
       "2       2020-05-25   867689             0.0  Control\n",
       "3       2020-05-29   752172             0.0  Control\n",
       "7       2020-05-30   486559             0.0  Control\n",
       "9       2020-05-29   486559             0.0  Control\n",
       "...            ...      ...             ...      ...\n",
       "101490  2020-05-25   600165             0.0  Control\n",
       "101491  2020-05-29   556405             0.0  Control\n",
       "101493  2020-05-26   442716             0.0     Test\n",
       "101497  2020-05-26   352605             0.0     Test\n",
       "101499  2020-05-28   811817             0.0     Test\n",
       "\n",
       "[42177 rows x 4 columns]"
      ]
     },
     "execution_count": 51,
     "metadata": {},
     "output_type": "execute_result"
    }
   ],
   "source": [
    "# удаляю строки со значением Nan\n",
    "os.dropna(inplace=True)\n",
    "os"
   ]
  },
  {
   "cell_type": "code",
   "execution_count": 180,
   "metadata": {},
   "outputs": [
    {
     "name": "stdout",
     "output_type": "stream",
     "text": [
      "p-value на \"2020-05-25\" = 0.02326737095709275\n"
     ]
    }
   ],
   "source": [
    "# День №1 - 25 мая\n",
    "day25 = os[os['date']=='2020-05-25'] # выбираю 25 число\n",
    "group1 = day25[day25['groups']=='Control'].user_cancelled\n",
    "group2 = day25[day25['groups']=='Test'].user_cancelled\n",
    "group2.drop(group2.index[:178],inplace=True) # выравниваю группы, удаляю произвольные строки\n",
    "p_value25 = stats.ttest_ind(group1,group2)[1] # ttest Student\n",
    "print('p-value на \"2020-05-25\" =', p_value25)"
   ]
  },
  {
   "cell_type": "code",
   "execution_count": 179,
   "metadata": {},
   "outputs": [
    {
     "name": "stdout",
     "output_type": "stream",
     "text": [
      "p-value на \"2020-05-26\" = 8.019029387393315e-05\n"
     ]
    }
   ],
   "source": [
    "# День №2 - 26 мая\n",
    "day26 = os[os['date']=='2020-05-26']\n",
    "group3 = day26[day26['groups']=='Control'].user_cancelled\n",
    "group4 = day26[day26['groups']=='Test'].user_cancelled\n",
    "group4.drop(group4.index[:100],inplace=True)\n",
    "p_value26 = stats.ttest_ind(group3,group4)[1]\n",
    "print('p-value на \"2020-05-26\" =', p_value26)"
   ]
  },
  {
   "cell_type": "code",
   "execution_count": 178,
   "metadata": {},
   "outputs": [
    {
     "name": "stdout",
     "output_type": "stream",
     "text": [
      "p-value на \"2020-05-27\" = 1.0161716726824406e-07\n"
     ]
    }
   ],
   "source": [
    "# День №3 - 27 мая\n",
    "day27 = os[os['date']=='2020-05-27']\n",
    "group5 = day27[day27['groups']=='Control'].user_cancelled\n",
    "group6 = day27[day27['groups']=='Test'].user_cancelled\n",
    "group6.drop(group6.index[:96],inplace=True)\n",
    "p_value27 = stats.ttest_ind(group5,group6)[1]\n",
    "print('p-value на \"2020-05-27\" =', p_value27)"
   ]
  },
  {
   "cell_type": "code",
   "execution_count": 183,
   "metadata": {},
   "outputs": [
    {
     "name": "stdout",
     "output_type": "stream",
     "text": [
      "p-value на \"2020-05-28\" = 5.138261224267509e-06\n"
     ]
    },
    {
     "name": "stderr",
     "output_type": "stream",
     "text": [
      "D:\\Anaconda3\\lib\\site-packages\\pandas\\core\\series.py:4509: SettingWithCopyWarning: \n",
      "A value is trying to be set on a copy of a slice from a DataFrame\n",
      "\n",
      "See the caveats in the documentation: https://pandas.pydata.org/pandas-docs/stable/user_guide/indexing.html#returning-a-view-versus-a-copy\n",
      "  return super().drop(\n"
     ]
    }
   ],
   "source": [
    "# День №4 - 28 мая\n",
    "day28 = os[os['date']=='2020-05-28']\n",
    "group7 = day28[day28['groups']=='Control'].user_cancelled\n",
    "group8 = day28[day28['groups']=='Test'].user_cancelled\n",
    "group8.drop(group8.index[:53],inplace=True)\n",
    "p_value28 = stats.ttest_ind(group7,group8)[1]\n",
    "print('p-value на \"2020-05-28\" =', p_value28)"
   ]
  },
  {
   "cell_type": "code",
   "execution_count": 149,
   "metadata": {},
   "outputs": [
    {
     "name": "stdout",
     "output_type": "stream",
     "text": [
      "p-value на \"2020-05-29\" = 5.82322439316649e-07\n"
     ]
    }
   ],
   "source": [
    "# День №5 - 29 мая\n",
    "day29 = os[os['date']=='2020-05-29']\n",
    "group9 = day29[day29['groups']=='Control'].user_cancelled\n",
    "group10 = day29[day29['groups']=='Test'].user_cancelled\n",
    "p_value29 = stats.ttest_ind(group9,group10)[1]\n",
    "print('p-value на \"2020-05-29\" =', p_value29)"
   ]
  },
  {
   "cell_type": "code",
   "execution_count": 140,
   "metadata": {},
   "outputs": [
    {
     "name": "stdout",
     "output_type": "stream",
     "text": [
      "p-value на \"2020-05-30\" = 2.352602575239131e-06\n"
     ]
    }
   ],
   "source": [
    "# День №6 - 30 мая\n",
    "day30 = os[os['date']=='2020-05-30']\n",
    "group11 = day30[day30['groups']=='Control'].user_cancelled\n",
    "group12 = day30[day30['groups']=='Test'].user_cancelled\n",
    "group12.drop(group12.index[:22],inplace=True)\n",
    "p_value30 = stats.ttest_ind(group11,group12)[1]\n",
    "print('p-value на \"2020-05-30\" =', p_value30)"
   ]
  },
  {
   "cell_type": "code",
   "execution_count": 177,
   "metadata": {
    "scrolled": true
   },
   "outputs": [
    {
     "name": "stdout",
     "output_type": "stream",
     "text": [
      "p-value на \"2020-05-31\" = p_value31 0.000\n"
     ]
    }
   ],
   "source": [
    "# День №7 - 31 мая\n",
    "day31 = os[os['date']=='2020-05-31']\n",
    "group13 = day31[day31['groups']=='Control'].user_cancelled\n",
    "group14 = day31[day31['groups']=='Test'].user_cancelled\n",
    "group14.drop(group14.index[:44],inplace=True)\n",
    "p_value31 = stats.ttest_ind(group13,group14)[1]\n",
    "print('p-value на \"2020-05-31\" =', 'p_value31 %.3f'% p_value31)"
   ]
  },
  {
   "cell_type": "code",
   "execution_count": 184,
   "metadata": {
    "scrolled": true
   },
   "outputs": [
    {
     "data": {
      "text/html": [
       "<div>\n",
       "<style scoped>\n",
       "    .dataframe tbody tr th:only-of-type {\n",
       "        vertical-align: middle;\n",
       "    }\n",
       "\n",
       "    .dataframe tbody tr th {\n",
       "        vertical-align: top;\n",
       "    }\n",
       "\n",
       "    .dataframe thead th {\n",
       "        text-align: right;\n",
       "    }\n",
       "</style>\n",
       "<table border=\"1\" class=\"dataframe\">\n",
       "  <thead>\n",
       "    <tr style=\"text-align: right;\">\n",
       "      <th></th>\n",
       "      <th>date</th>\n",
       "      <th>p_value</th>\n",
       "    </tr>\n",
       "  </thead>\n",
       "  <tbody>\n",
       "    <tr>\n",
       "      <th>0</th>\n",
       "      <td>2020-05-25</td>\n",
       "      <td>2.326737e-02</td>\n",
       "    </tr>\n",
       "    <tr>\n",
       "      <th>1</th>\n",
       "      <td>2020-05-26</td>\n",
       "      <td>8.019029e-05</td>\n",
       "    </tr>\n",
       "    <tr>\n",
       "      <th>2</th>\n",
       "      <td>2020-05-27</td>\n",
       "      <td>1.016172e-07</td>\n",
       "    </tr>\n",
       "    <tr>\n",
       "      <th>3</th>\n",
       "      <td>2020-05-28</td>\n",
       "      <td>5.138261e-06</td>\n",
       "    </tr>\n",
       "    <tr>\n",
       "      <th>4</th>\n",
       "      <td>2020-05-29</td>\n",
       "      <td>5.823224e-07</td>\n",
       "    </tr>\n",
       "    <tr>\n",
       "      <th>5</th>\n",
       "      <td>2020-05-30</td>\n",
       "      <td>2.352603e-06</td>\n",
       "    </tr>\n",
       "    <tr>\n",
       "      <th>6</th>\n",
       "      <td>2020-05-31</td>\n",
       "      <td>1.437475e-05</td>\n",
       "    </tr>\n",
       "  </tbody>\n",
       "</table>\n",
       "</div>"
      ],
      "text/plain": [
       "         date       p_value\n",
       "0  2020-05-25  2.326737e-02\n",
       "1  2020-05-26  8.019029e-05\n",
       "2  2020-05-27  1.016172e-07\n",
       "3  2020-05-28  5.138261e-06\n",
       "4  2020-05-29  5.823224e-07\n",
       "5  2020-05-30  2.352603e-06\n",
       "6  2020-05-31  1.437475e-05"
      ]
     },
     "execution_count": 184,
     "metadata": {},
     "output_type": "execute_result"
    }
   ],
   "source": [
    "# таблица со значением p-value в разные дни\n",
    "df = pd.DataFrame({'date': ['2020-05-25','2020-05-26','2020-05-27','2020-05-28','2020-05-29','2020-05-30','2020-05-31'], \n",
    "                   'p_value': [p_value25,p_value26,p_value27,p_value28,p_value29,p_value30,p_value31]})\n",
    "df"
   ]
  },
  {
   "cell_type": "code",
   "execution_count": 145,
   "metadata": {},
   "outputs": [],
   "source": [
    "from pylab import rcParams\n",
    "rcParams['figure.figsize'] = 13,6"
   ]
  },
  {
   "cell_type": "code",
   "execution_count": 185,
   "metadata": {
    "scrolled": false
   },
   "outputs": [
    {
     "data": {
      "text/plain": [
       "<matplotlib.collections.LineCollection at 0x1b0a4d45700>"
      ]
     },
     "execution_count": 185,
     "metadata": {},
     "output_type": "execute_result"
    },
    {
     "data": {
      "image/png": "[encoded data removed]",
      "text/plain": [
       "<Figure size 936x432 with 1 Axes>"
      ]
     },
     "metadata": {
      "needs_background": "light"
     },
     "output_type": "display_data"
    }
   ],
   "source": [
    "# визуализация\n",
    "plt.plot(df.date, df.p_value,'r')\n",
    "plt.title('dinamic p-value')\n",
    "plt.xlabel('date')\n",
    "plt.ylabel('p-vale')\n",
    "plt.hlines(0.05,'2020-05-25','2020-05-31') # прямая линия, выбираю уровень значимости a=0.05"
   ]
  },
  {
   "cell_type": "markdown",
   "metadata": {},
   "source": [
    "### Вывод: так как p-value < a, то наблюдаются значимые различия м/у группами"
   ]
  }
 ],
 "metadata": {
  "kernelspec": {
   "display_name": "Python 3",
   "language": "python",
   "name": "python3"
  },
  "language_info": {
   "codemirror_mode": {
    "name": "ipython",
    "version": 3
   },
   "file_extension": ".py",
   "mimetype": "text/x-python",
   "name": "python",
   "nbconvert_exporter": "python",
   "pygments_lexer": "ipython3",
   "version": "3.8.3"
  }
 },
 "nbformat": 4,
 "nbformat_minor": 4
}
